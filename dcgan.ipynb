{
 "cells": [
  {
   "cell_type": "code",
   "execution_count": 43,
   "metadata": {},
   "outputs": [],
   "source": [
    "import matplotlib.pyplot as plt\n",
    "import torch\n",
    "import torch.nn as nn\n",
    "import torchvision\n",
    "from torchvision import datasets, transforms\n",
    "from torchmetrics.image.fid import FrechetInceptionDistance\n",
    "from tqdm import tqdm"
   ]
  },
  {
   "cell_type": "markdown",
   "metadata": {},
   "source": [
    "Constants"
   ]
  },
  {
   "cell_type": "code",
   "execution_count": 44,
   "metadata": {},
   "outputs": [
    {
     "name": "stdout",
     "output_type": "stream",
     "text": [
      "Using device: cuda\n"
     ]
    }
   ],
   "source": [
    "data_dir = './data'\n",
    "img_size = 64\n",
    "z_dim = 100 # Size of the noise vector\n",
    "ngf = 64 # Size of feature maps in generator\n",
    "ndf = 64 # Size of feature maps in discriminator\n",
    "\n",
    "num_epochs = 10\n",
    "batch_size = 32\n",
    "learning_rate = 0.0002\n",
    "\n",
    "ckpt_every = 300 # Save checkpoint every 300 iterations\n",
    "visualize_every = 300 # Visualize every 300 iterations\n",
    "device = torch.device('cuda' if torch.cuda.is_available() else 'cpu')\n",
    "print(f'Using device: {device}')"
   ]
  },
  {
   "cell_type": "code",
   "execution_count": 3,
   "metadata": {},
   "outputs": [
    {
     "name": "stdout",
     "output_type": "stream",
     "text": [
      "Files already downloaded and verified\n",
      "Files already downloaded and verified\n"
     ]
    }
   ],
   "source": [
    "transform = transforms.Compose([\n",
    "    transforms.Resize(img_size),\n",
    "    transforms.CenterCrop(img_size),\n",
    "    transforms.ToTensor(),\n",
    "    transforms.Normalize((0.5, 0.5, 0.5), (0.5, 0.5, 0.5))\n",
    "])\n",
    "\n",
    "train_set = datasets.CelebA(data_dir, split='train', download=True, transform=transform)\n",
    "test_set = datasets.CelebA(data_dir, split='test', download=True, transform=transform)\n",
    "\n",
    "train_loader = torch.utils.data.DataLoader(train_set, batch_size=batch_size, shuffle=True)\n",
    "test_loader = torch.utils.data.DataLoader(test_set, batch_size=batch_size, shuffle=False)"
   ]
  },
  {
   "cell_type": "markdown",
   "metadata": {},
   "source": [
    "Networks"
   ]
  },
  {
   "cell_type": "code",
   "execution_count": 60,
   "metadata": {},
   "outputs": [],
   "source": [
    "class Generator(nn.Module):\n",
    "  def __init__(self, z_dim=100, ngf=ngf, channels=3):\n",
    "    super(Generator, self).__init__()\n",
    "\n",
    "    self.model = nn.Sequential(\n",
    "      # Input: z_dim x 1 x 1 -> Output: ngf*8 x 4 x 4\n",
    "      nn.ConvTranspose2d(z_dim, ngf*8, kernel_size=4, stride=1, padding=0, bias=False),\n",
    "      nn.BatchNorm2d(ngf*8),\n",
    "      nn.ReLU(True),\n",
    "      # Input: ngf*8 x 4 x 4 -> Output: ngf*4 x 8 x 8\n",
    "      nn.ConvTranspose2d(ngf*8, ngf*4, kernel_size=4, stride=2, padding=1, bias=False),\n",
    "      nn.BatchNorm2d(ngf*4),\n",
    "      nn.ReLU(True),\n",
    "      # Input: ngf*4 x 8 x 8 -> Output: ngf*2 x 16 x 16\n",
    "      nn.ConvTranspose2d(ngf*4, ngf*2, kernel_size=4, stride=2, padding=1, bias=False),\n",
    "      nn.BatchNorm2d(ngf*2),\n",
    "      nn.ReLU(True),\n",
    "      # Input: ngf*2 x 16 x 16 -> Output: ngf x 32 x 32\n",
    "      nn.ConvTranspose2d(ngf*2, ngf, kernel_size=4, stride=2, padding=1, bias=False),\n",
    "      nn.BatchNorm2d(ngf),\n",
    "      nn.ReLU(True),\n",
    "      # Input: ngf x 32 x 32 -> Output: channels x 64 x 64\n",
    "      nn.ConvTranspose2d(ngf, channels, kernel_size=4, stride=2, padding=1, bias=False),\n",
    "      nn.Tanh()\n",
    "    )\n",
    "\n",
    "  def forward(self, x):\n",
    "    return self.model(x)"
   ]
  },
  {
   "cell_type": "code",
   "execution_count": 54,
   "metadata": {},
   "outputs": [],
   "source": [
    "class Discriminator(nn.Module):\n",
    "  def __init__(self, ndf=ndf, channels=3):\n",
    "    super(Discriminator, self).__init__()\n",
    "\n",
    "    self.model = nn.Sequential(\n",
    "      # Input size: (channels) x 64 x 64 -> Output size: (ndf) x 32 x 32\n",
    "      nn.Conv2d(channels, ndf, kernel_size=4, stride=2, padding=1, bias=False),\n",
    "      nn.LeakyReLU(0.2, inplace=True),\n",
    "      # Input size: (ndf) x 32 x 32 -> Output size: (ndf*2) x 16 x 16\n",
    "      nn.Conv2d(ndf, ndf*2, kernel_size=4, stride=2, padding=1, bias=False),\n",
    "      nn.BatchNorm2d(ndf*2),\n",
    "      nn.LeakyReLU(0.2, inplace=True),\n",
    "      # Input size (ndf*2) x 16 x 16 -> Output size: (ndf*4) x 8 x 8 \n",
    "      nn.Conv2d(ndf*2, ndf*4, kernel_size=4, stride=2, padding=1, bias=False),\n",
    "      nn.BatchNorm2d(ndf*4),\n",
    "      nn.LeakyReLU(0.2, inplace=True),\n",
    "      # Input size (ndf*4) x 8 x 8 -> Output size: (ndf*8) x 4 x 4\n",
    "      nn.Conv2d(ndf*4, ndf*8, kernel_size=4, stride=2, padding=1, bias=False),\n",
    "      nn.BatchNorm2d(ndf*8),\n",
    "      nn.LeakyReLU(0.2, inplace=True),\n",
    "      # Input size: (ndf*8) x 4 x 4 -> Output size: 1 x 1 x 1\n",
    "      nn.Conv2d(ndf*8, 1, kernel_size=4, stride=1, padding=0, bias=False),\n",
    "    )\n",
    "\n",
    "  def forward(self, x):\n",
    "    return self.model(x)"
   ]
  },
  {
   "cell_type": "code",
   "execution_count": 52,
   "metadata": {},
   "outputs": [
    {
     "name": "stdout",
     "output_type": "stream",
     "text": [
      "torch.Size([32, 1, 1, 1])\n"
     ]
    }
   ],
   "source": [
    "d = Discriminator().to(device)\n",
    "img = torch.randn(32, 3, 64, 64).to(device)\n",
    "print(d(img).shape)"
   ]
  },
  {
   "cell_type": "code",
   "execution_count": 24,
   "metadata": {},
   "outputs": [],
   "source": [
    "def init_weights(m):\n",
    "  if type(m) == nn.Conv2d or type(m) == nn.ConvTranspose2d:\n",
    "    nn.init.normal_(m.weight, 0.0, 0.02)\n",
    "  if type(m) == nn.BatchNorm2d:\n",
    "    nn.init.normal_(m.weight, 1.0, 0.02)\n",
    "    nn.init.constant_(m.bias, 0)"
   ]
  },
  {
   "cell_type": "markdown",
   "metadata": {},
   "source": [
    "Helper functions"
   ]
  },
  {
   "cell_type": "code",
   "execution_count": 57,
   "metadata": {},
   "outputs": [],
   "source": [
    "def visualize_batch(fixed_noise, netG, epoch):\n",
    "  with torch.no_grad():\n",
    "    fake = netG(fixed_noise)\n",
    "    grid = torchvision.utils.make_grid(fake, nrow=8, normalize=True)\n",
    "    torchvision.utils.save_image(grid, f'./samples/{epoch}.png', normalize=True)"
   ]
  },
  {
   "cell_type": "code",
   "execution_count": 26,
   "metadata": {},
   "outputs": [],
   "source": [
    "def save_checkpoint(netG, netD, epoch):\n",
    "  torch.save(netG.state_dict(), f'./checkpoint/netG_{epoch}.pth')\n",
    "  torch.save(netD.state_dict(), f'./checkpoint/netD_{epoch}.pth')"
   ]
  },
  {
   "cell_type": "markdown",
   "metadata": {},
   "source": [
    "Training"
   ]
  },
  {
   "cell_type": "code",
   "execution_count": 58,
   "metadata": {},
   "outputs": [],
   "source": [
    "def train():\n",
    "  # networks\n",
    "  netG = Generator(z_dim).to(device)\n",
    "  netG.apply(init_weights)\n",
    "  netD = Discriminator().to(device)\n",
    "  netD.apply(init_weights)\n",
    "\n",
    "  # optimizers\n",
    "  optimG = torch.optim.Adam(netG.parameters(), lr=learning_rate, betas=(0.5, 0.999))\n",
    "  optimD = torch.optim.Adam(netD.parameters(), lr=learning_rate, betas=(0.5, 0.999))\n",
    "\n",
    "  # loss function\n",
    "  criterion = nn.BCEWithLogitsLoss()\n",
    "\n",
    "  # fixed noise for visualization\n",
    "  fixed_noise = torch.randn(64, z_dim, 1, 1, device=device)\n",
    "\n",
    "  # training loop\n",
    "  losses_G = []\n",
    "  losses_D = []\n",
    "\n",
    "  for epoch in range(num_epochs):\n",
    "    print(f\"Epoch {epoch}/{num_epochs}: \")\n",
    "    pbar = tqdm(enumerate(train_loader), total=len(train_loader))\n",
    "    for i, (real, _) in pbar:\n",
    "      running_loss_G = 0.0\n",
    "      running_loss_D = 0.0\n",
    "\n",
    "      real = real.to(device)\n",
    "      batch_size = real.size(0)\n",
    "\n",
    "      # train discriminator\n",
    "      netD.zero_grad()\n",
    "      label = torch.full((batch_size,), 1, device=device, dtype=torch.float32)\n",
    "      output = netD(real).view(-1)\n",
    "      lossD_real = criterion(output, label)\n",
    "      lossD_real.backward()\n",
    "\n",
    "      noise = torch.randn(batch_size, z_dim, 1, 1, device=device)\n",
    "      fake = netG(noise)\n",
    "      label = torch.full((batch_size,), 0, device=device, dtype=torch.float32)\n",
    "      output = netD(fake.detach()).view(-1)\n",
    "      lossD_fake = criterion(output, label)\n",
    "      lossD_fake.backward()\n",
    "\n",
    "      lossD = lossD_real + lossD_fake\n",
    "      optimD.step()\n",
    "\n",
    "      running_loss_D += lossD.item()\n",
    "\n",
    "      # train generator\n",
    "      netG.zero_grad()\n",
    "      label = torch.full((batch_size,), 1, device=device, dtype=torch.float32)\n",
    "      output = netD(fake).view(-1)\n",
    "      lossG = criterion(output, label)\n",
    "      lossG.backward()\n",
    "      optimG.step()\n",
    "\n",
    "      running_loss_G += lossG.item()\n",
    "\n",
    "      pbar.set_description_str(f'LossD: {lossD.item():.4f} LossG: {lossG.item():.4f}')\n",
    "      if i % visualize_every == 0:\n",
    "        visualize_batch(fixed_noise, netG, f\"epoch_{epoch}_iter_{i}\")\n",
    "      \n",
    "      if i % ckpt_every == 0:\n",
    "        save_checkpoint(netG, netD, f\"epoch_{epoch}_iter_{i}\")\n",
    "\n",
    "    losses_G.append(running_loss_G / len(train_loader))\n",
    "    losses_D.append(running_loss_D / len(train_loader))\n",
    "\n",
    "  return losses_G, losses_D"
   ]
  },
  {
   "cell_type": "code",
   "execution_count": 59,
   "metadata": {},
   "outputs": [
    {
     "name": "stdout",
     "output_type": "stream",
     "text": [
      "Epoch 0/10: \n"
     ]
    },
    {
     "name": "stderr",
     "output_type": "stream",
     "text": [
      "LossD: 0.0649 LossG: 7.2936:   0%|          | 17/5087 [00:05<27:43,  3.05it/s] \n"
     ]
    },
    {
     "ename": "KeyboardInterrupt",
     "evalue": "",
     "output_type": "error",
     "traceback": [
      "\u001b[1;31m---------------------------------------------------------------------------\u001b[0m",
      "\u001b[1;31mKeyboardInterrupt\u001b[0m                         Traceback (most recent call last)",
      "Cell \u001b[1;32mIn[59], line 1\u001b[0m\n\u001b[1;32m----> 1\u001b[0m \u001b[43mtrain\u001b[49m\u001b[43m(\u001b[49m\u001b[43m)\u001b[49m\n",
      "Cell \u001b[1;32mIn[58], line 59\u001b[0m, in \u001b[0;36mtrain\u001b[1;34m()\u001b[0m\n\u001b[0;32m     56\u001b[0m lossG\u001b[38;5;241m.\u001b[39mbackward()\n\u001b[0;32m     57\u001b[0m optimG\u001b[38;5;241m.\u001b[39mstep()\n\u001b[1;32m---> 59\u001b[0m running_loss_G \u001b[38;5;241m+\u001b[39m\u001b[38;5;241m=\u001b[39m \u001b[43mlossG\u001b[49m\u001b[38;5;241;43m.\u001b[39;49m\u001b[43mitem\u001b[49m\u001b[43m(\u001b[49m\u001b[43m)\u001b[49m\n\u001b[0;32m     61\u001b[0m pbar\u001b[38;5;241m.\u001b[39mset_description_str(\u001b[38;5;124mf\u001b[39m\u001b[38;5;124m'\u001b[39m\u001b[38;5;124mLossD: \u001b[39m\u001b[38;5;132;01m{\u001b[39;00mlossD\u001b[38;5;241m.\u001b[39mitem()\u001b[38;5;132;01m:\u001b[39;00m\u001b[38;5;124m.4f\u001b[39m\u001b[38;5;132;01m}\u001b[39;00m\u001b[38;5;124m LossG: \u001b[39m\u001b[38;5;132;01m{\u001b[39;00mlossG\u001b[38;5;241m.\u001b[39mitem()\u001b[38;5;132;01m:\u001b[39;00m\u001b[38;5;124m.4f\u001b[39m\u001b[38;5;132;01m}\u001b[39;00m\u001b[38;5;124m'\u001b[39m)\n\u001b[0;32m     62\u001b[0m \u001b[38;5;28;01mif\u001b[39;00m i \u001b[38;5;241m%\u001b[39m visualize_every \u001b[38;5;241m==\u001b[39m \u001b[38;5;241m0\u001b[39m:\n",
      "\u001b[1;31mKeyboardInterrupt\u001b[0m: "
     ]
    }
   ],
   "source": [
    "train()"
   ]
  },
  {
   "cell_type": "markdown",
   "metadata": {},
   "source": [
    "Inference"
   ]
  },
  {
   "cell_type": "code",
   "execution_count": 37,
   "metadata": {},
   "outputs": [],
   "source": [
    "def inference(ckpt_path, num_samples=64):\n",
    "  netG = Generator(z_dim).to(device)\n",
    "  netG.load_state_dict(torch.load(ckpt_path))\n",
    "  netG.eval()\n",
    "\n",
    "  with torch.no_grad():\n",
    "    noise = torch.randn(num_samples, z_dim, 1, 1, device=device)\n",
    "    fake = netG(noise)\n",
    "    grid = torchvision.utils.make_grid(fake, nrow=8, normalize=True)\n",
    "    torchvision.utils.save_image(grid, f'./inference/inference.png', normalize=True)"
   ]
  },
  {
   "cell_type": "code",
   "execution_count": 41,
   "metadata": {},
   "outputs": [],
   "source": [
    "inference('./checkpoint/netG_epoch_0_iter_1200.pth', 32)"
   ]
  },
  {
   "cell_type": "markdown",
   "metadata": {},
   "source": [
    "Evaluation"
   ]
  },
  {
   "cell_type": "code",
   "execution_count": 18,
   "metadata": {},
   "outputs": [],
   "source": [
    "def calculate_fid(ckpt_path):\n",
    "  netG = Generator(z_dim).to(device)\n",
    "  netG.load_state_dict(torch.load(ckpt_path))\n",
    "  netG.eval()\n",
    "\n",
    "  fid = FrechetInceptionDistance(feature=64, normalize=True).to(device)\n",
    "\n",
    "  with torch.no_grad():\n",
    "    for real, _ in tqdm(test_loader):\n",
    "      real = real.to(device)\n",
    "      noise = torch.randn(real.size(0), z_dim, 1, 1, device=device)\n",
    "      fake = netG(noise)\n",
    "      \n",
    "      fid.update(real, real=True)\n",
    "      fid.update(fake, real=False)\n",
    "\n",
    "  print(f'FID: {fid.compute():.4f}')"
   ]
  },
  {
   "cell_type": "code",
   "execution_count": 19,
   "metadata": {},
   "outputs": [
    {
     "name": "stderr",
     "output_type": "stream",
     "text": [
      "100%|██████████| 624/624 [00:36<00:00, 17.23it/s]\n"
     ]
    },
    {
     "name": "stdout",
     "output_type": "stream",
     "text": [
      "FID: 12.9965\n"
     ]
    }
   ],
   "source": [
    "calculate_fid('./checkpoint/netG_epoch_0_iter_1200.pth')"
   ]
  },
  {
   "cell_type": "code",
   "execution_count": null,
   "metadata": {},
   "outputs": [],
   "source": []
  }
 ],
 "metadata": {
  "kernelspec": {
   "display_name": "venv",
   "language": "python",
   "name": "python3"
  },
  "language_info": {
   "codemirror_mode": {
    "name": "ipython",
    "version": 3
   },
   "file_extension": ".py",
   "mimetype": "text/x-python",
   "name": "python",
   "nbconvert_exporter": "python",
   "pygments_lexer": "ipython3",
   "version": "3.9.7"
  }
 },
 "nbformat": 4,
 "nbformat_minor": 2
}
